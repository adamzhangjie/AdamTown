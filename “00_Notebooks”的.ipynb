{
  "nbformat": 4,
  "nbformat_minor": 0,
  "metadata": {
    "colab": {
      "name": "“00_Notebooks”的",
      "version": "0.3.2",
      "provenance": [],
      "collapsed_sections": [],
      "toc_visible": true,
      "include_colab_link": true
    },
    "kernelspec": {
      "name": "python3",
      "display_name": "Python 3"
    }
  },
  "cells": [
    {
      "cell_type": "markdown",
      "metadata": {
        "id": "view-in-github",
        "colab_type": "text"
      },
      "source": [
        "<a href=\"https://colab.research.google.com/github/adamzhangjie/AdamTown/blob/master/%E2%80%9C00_Notebooks%E2%80%9D%E7%9A%84.ipynb\" target=\"_parent\"><img src=\"https://colab.research.google.com/assets/colab-badge.svg\" alt=\"Open In Colab\"/></a>"
      ]
    },
    {
      "metadata": {
        "id": "bOChJSNXtC9g",
        "colab_type": "text"
      },
      "cell_type": "markdown",
      "source": [
        "# Notebook Basics"
      ]
    },
    {
      "metadata": {
        "id": "rSXwaU-ptNG6",
        "colab_type": "text"
      },
      "cell_type": "markdown",
      "source": [
        "\n",
        "\n",
        "```\n",
        "# 此内容为代码格式\n",
        "```\n",
        "\n",
        "<img src=\"https://raw.githubusercontent.com/GokuMohandas/practicalAI/master/images/logo.png\" width=150>\n",
        "\n",
        "Welcome to the very first lesson of practicalAI. In this lesson we will learn how to work with the notebook and saving it. If you already know how to use notebooks, feel free to skip this lesson.\n",
        "\n",
        "<img src=\"https://raw.githubusercontent.com/GokuMohandas/practicalAI/master/images/colab.png\" width=150>\n",
        "\n",
        "**Note**: To run the code in this notebook, follow these steps:\n",
        "1. Sign into your Google account.\n",
        "2. Click the **COPY TO DRIVE** button on the toolbar. This will open the notebook on a new tab.\n",
        "\n",
        "<img src=\"https://raw.githubusercontent.com/GokuMohandas/practicalAI/master/images/copy_to_drive.png\">\n",
        "\n",
        "3. Rename this new notebook by removing the **Copy of** part in the title.\n",
        "4. Run the code, make changes, etc. and it's all automatically saved to you personal Google Drive.\n",
        "\n"
      ]
    },
    {
      "metadata": {
        "id": "cOEaLCZAu4JQ",
        "colab_type": "text"
      },
      "cell_type": "markdown",
      "source": [
        "# Types of cells"
      ]
    },
    {
      "metadata": {
        "id": "WcOgqq5xvtMn",
        "colab_type": "text"
      },
      "cell_type": "markdown",
      "source": [
        "Notebooks are a great visual way of programming. We will use these notebooks to code in Python and learn the basics of machine learning. First, you need to know that notebooks are made up of cells. Each cell can either be a **code cell** or a **text cell**. \n",
        "\n",
        "*   **text cells**: used for headers and paragraph text. \n",
        "*   **code cells**: used for holding code.\n",
        "\n",
        "\n"
      ]
    },
    {
      "metadata": {
        "id": "tBVFofpLutnn",
        "colab_type": "text"
      },
      "cell_type": "markdown",
      "source": [
        "# Creating cells\n",
        "\n",
        "First, let's create a text cell. To create a cell at a particular location, just click on the spot and create a text cell by clicking on the **➕TEXT** below the *View* button up top. Once you made the cell, click on it and type the following inside it:\n",
        "\n",
        "\n",
        "```\n",
        "### This is a header\n",
        "Hello world!\n",
        "```"
      ]
    },
    {
      "metadata": {
        "id": "iXYgZpgpYS3N",
        "colab_type": "text"
      },
      "cell_type": "markdown",
      "source": [
        "# Running cells\n",
        "Once you type inside the cell, press the **SHIFT** and **ENTER** together to run the cell."
      ]
    },
    {
      "metadata": {
        "id": "_dkKbJMFvLRL",
        "colab_type": "code",
        "colab": {
          "base_uri": "https://localhost:8080/",
          "height": 34
        },
        "outputId": "0b8a0f3c-02ad-4252-de77-e264119f6760"
      },
      "cell_type": "code",
      "source": [
        "print (\"hello world!\")"
      ],
      "execution_count": 2,
      "outputs": [
        {
          "output_type": "stream",
          "text": [
            "hello world!\n"
          ],
          "name": "stdout"
        }
      ]
    },
    {
      "metadata": {
        "id": "WKTbiBuvYexD",
        "colab_type": "text"
      },
      "cell_type": "markdown",
      "source": [
        "# Editing cells\n",
        "To edit a cell, double click it and you should be able to replace what you've typed in there."
      ]
    },
    {
      "metadata": {
        "id": "Jv0ZSuhNYVIU",
        "colab_type": "text"
      },
      "cell_type": "markdown",
      "source": [
        "# Moving cells\n",
        "Once you create the cell, you can move it with the ⬆️**CELL** and ⬇️**CELL** buttons above. "
      ]
    },
    {
      "metadata": {
        "id": "B_VGiYf8YXiU",
        "colab_type": "text"
      },
      "cell_type": "markdown",
      "source": [
        "# Deleting cells\n",
        "You can delete the cell by clicking on the cell and pressing the button with three vertical dots on the top right corner of the cell. Click **Delete cell**."
      ]
    },
    {
      "metadata": {
        "id": "hxl7Fk8LVQmR",
        "colab_type": "text"
      },
      "cell_type": "markdown",
      "source": [
        "# Creating a code cell\n",
        "Now let's take the same steps as above to create, edit and delete a code cell. You can create a code cell by clicking on the ➕CODE below the *File* menu at the top. Once you have created the cell, click on it and type the following inside it:\n",
        "\n",
        "```\n",
        "print (\"hello world!\")\n",
        "```\n",
        "\n",
        "⏰  -   It may take a few seconds when you run your first code cell."
      ]
    },
    {
      "metadata": {
        "id": "DfGf9KmQ3DJM",
        "colab_type": "code",
        "outputId": "dd9665df-ac81-4c0d-ef72-5ca2099e53f7",
        "colab": {
          "base_uri": "https://localhost:8080/",
          "height": 34
        }
      },
      "cell_type": "code",
      "source": [
        "print (\"hello world!\")"
      ],
      "execution_count": 0,
      "outputs": [
        {
          "output_type": "stream",
          "text": [
            "hello world!\n"
          ],
          "name": "stdout"
        }
      ]
    },
    {
      "metadata": {
        "id": "GURvB6XzWN12",
        "colab_type": "text"
      },
      "cell_type": "markdown",
      "source": [
        "**Note:** These Google colab notebooks timeout if you are idle for more than ~30 minutes which means you'll need to run all your code cells again. "
      ]
    },
    {
      "metadata": {
        "id": "VoMq0eFRvugb",
        "colab_type": "text"
      },
      "cell_type": "markdown",
      "source": [
        "# Saving the notebook"
      ]
    },
    {
      "metadata": {
        "id": "nPWxXt5Hv7Ga",
        "colab_type": "text"
      },
      "cell_type": "markdown",
      "source": [
        "Go to *File* menu and then click on **Save a copy in Drive**. Now you will have your own copy of each notebook in your own Google Drive. If you have a [Github](https://github.com/), you can explore saving it there or even downloading it as a .ipynb or .py file."
      ]
    }
  ]
}